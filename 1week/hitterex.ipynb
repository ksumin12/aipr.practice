{
 "cells": [
  {
   "cell_type": "code",
   "execution_count": 92,
   "metadata": {},
   "outputs": [],
   "source": [
    "from urllib.request import urlopen\n",
    "from bs4 import BeautifulSoup\n",
    "import pandas as pd\n",
    "from selenium import webdriver\n",
    "from selenium.webdriver.common.by import By\n",
    "import time  \n",
    "\n",
    "#kbo사이트에서 타자들의 기록을 크롤링하고 싶었습니다. 웹 크롤링 & 데이터 분석 with 파이썬 책을 참고해 기본적인 코드를 짰습니다.\n",
    "#제일 어려웠던건 다음페이지로 넘어가는 버튼을 클릭하는 코드를 짜는 것이었습니다.\n",
    "#여러 블로그와 유튜브를 참고하여 버튼을 클릭하는 코드를 만들었습니다.\n",
    "#그 후에 코드를 실행했을때 계속 1페이지의 내용이 중복되어 출력되었습니다.\n",
    "#해결방법으로 반복문을 사용했을때 탈출 조건을 어떻게 짜야할지 몰라 제대로 활용하지 못했습니다.\n",
    "#비슷한 사이트들의 다른 코드들을 보며 공부했는데 거기서 다른점을 찾아보니 페이지 이동후 충분한 시간을 기다리지 않아 발생한 문제였습니다.\n",
    "#그래서 최종적으로 선수들의 기록이 출력되고 동시에 엑셀로 저장되는 코드를 완성했습니다."
   ]
  },
  {
   "cell_type": "code",
   "execution_count": 93,
   "metadata": {},
   "outputs": [],
   "source": [
    "driver = webdriver.Chrome() #WebDriver(Selenium 라이브러리 사용해 웹 브라우저 자동화하는 데 사용) 초기화 부분\n",
    "\n",
    "#WebDriver 사용해, 지정된 주소로 이동\n",
    "driver.get('https://www.koreabaseball.com/Record/Player/HitterBasic/BasicOld.aspx?sort=HRA_RT') \n"
   ]
  },
  {
   "cell_type": "code",
   "execution_count": 94,
   "metadata": {},
   "outputs": [],
   "source": [
    "#와일드카드 결정전 타율 -> 정규시즌 타율 페이지로 넘어가도록 버튼 클릭\n",
    "\n",
    "button = driver.find_element(By.XPATH, '/html/body/form/div[3]/section/div/div/div[2]/div[3]/div[1]/div[2]/select')\n",
    "button.click()\n",
    "time.sleep(2) \n",
    "\n",
    "button = driver.find_element(By.XPATH, '/html/body/form/div[3]/section/div/div/div[2]/div[3]/div[1]/div[2]/select/option[1]')\n",
    "button.click()\n",
    "time.sleep(2) \n"
   ]
  },
  {
   "cell_type": "code",
   "execution_count": 96,
   "metadata": {},
   "outputs": [],
   "source": [
    "list_data = [] #추출하는 데이터 저장하기 위해 비어있는 리스트 초기화\n",
    "\n",
    "#Selenium 사용해 웹 페이지의 소스 코드를 가져와 BeautifulSoup를 사용해서 파싱\n",
    "bs_obj = BeautifulSoup(driver.page_source, \"html.parser\") "
   ]
  },
  {
   "cell_type": "code",
   "execution_count": 97,
   "metadata": {},
   "outputs": [],
   "source": [
    "#BeautifulSoup를 사용해, HTML 웹 페이지에서 테이블 데이터를 추출\n",
    "#해당 테이블의 열 제목 column_names 리스트에 저장\n",
    "\n",
    "table_tag = bs_obj.find_all(\"table\")[0] #<table> 요소를 찾아, 첫 번째 테이블을 선택하여 table_tag 변수에 저장\n",
    "thead = table_tag.find(\"thead\") #<thead> 요소를 찾아, 해당 요소 thead 변수에 저장\n",
    "column_names = [th.text.strip() for th in thead.find_all(\"th\")] # thead 요소에서 모든 <th> 요소를 찾아 column_names 리스트에 저장.  \n",
    "                                                                # .text 속성을 사용하여 각 <th> 요소의 텍스트 내용 추출. \n",
    "                                                                # .strip() 메서드를 사용해 좌우 공백 제거\n"
   ]
  },
  {
   "cell_type": "code",
   "execution_count": 98,
   "metadata": {},
   "outputs": [],
   "source": [
    "# HTML 웹 페이지에서 모든 <tr> 요소 찾아 player 변수에 저장\n",
    "# player_data_list라는 빈 리스트 초기화\n",
    "\n",
    "player = bs_obj.find_all(\"tr\")\n",
    "\n",
    "player_data_list = [] #나중에 각 행에서 추출한 데이터를 저장하는 데 사용"
   ]
  },
  {
   "cell_type": "code",
   "execution_count": 100,
   "metadata": {},
   "outputs": [
    {
     "name": "stdout",
     "output_type": "stream",
     "text": [
      "['순위', '선수명', '팀명', 'AVG', 'G', 'PA', 'AB', 'R', 'H', '2B', '3B', 'HR', 'TB', 'RBI', 'SAC', 'SF']\n",
      "['1', '손아섭', 'NC', '0.339', '140', '609', '551', '97', '187', '36', '3', '5', '244', '65', '1', '5']\n",
      "['2', '구자욱', '삼성', '0.336', '119', '515', '453', '65', '152', '37', '1', '11', '224', '71', '2', '3']\n",
      "['3', '김혜성', '키움', '0.335', '137', '621', '556', '104', '186', '29', '6', '7', '248', '57', '0', '5']\n",
      "['4', '홍창기', 'LG', '0.332', '141', '643', '524', '109', '174', '35', '2', '1', '216', '65', '3', '6']\n",
      "['5', '에레디아', 'SSG', '0.323', '122', '523', '473', '76', '153', '29', '0', '12', '218', '76', '1', '1']\n",
      "['6', '김선빈', 'KIA', '0.320', '119', '473', '419', '41', '134', '16', '0', '0', '150', '48', '8', '3']\n",
      "['7', '박건우', 'NC', '0.319', '130', '533', '458', '70', '146', '34', '2', '12', '220', '85', '1', '9']\n",
      "['8', '박민우', 'NC', '0.316', '124', '509', '452', '76', '143', '20', '7', '2', '183', '46', '5', '3']\n",
      "['9', '오스틴', 'LG', '0.313', '139', '583', '520', '87', '163', '29', '4', '23', '269', '95', '0', '7']\n",
      "['10', '전준우', '롯데', '0.312', '138', '559', '493', '80', '154', '21', '3', '17', '232', '77', '0', '7']\n",
      "['11', '양의지', '두산', '0.305', '129', '510', '439', '56', '134', '23', '0', '17', '208', '68', '0', '3']\n",
      "['12', '최형우', 'KIA', '0.302', '121', '508', '431', '64', '130', '27', '1', '17', '210', '81', '0', '4']\n",
      "['13', '박찬호', 'KIA', '0.301', '130', '507', '452', '73', '136', '18', '4', '3', '171', '52', '7', '6']\n",
      "['14', '문보경', 'LG', '0.301', '131', '542', '469', '77', '141', '29', '5', '10', '210', '72', '9', '4']\n",
      "['15', '노시환', '한화', '0.298', '131', '595', '514', '85', '153', '30', '1', '31', '278', '101', '0', '3']\n",
      "['16', '최정', 'SSG', '0.297', '128', '552', '471', '94', '140', '31', '0', '29', '258', '87', '1', '6']\n",
      "['17', '김민혁', 'KT', '0.297', '113', '448', '397', '68', '118', '20', '3', '3', '153', '41', '7', '5']\n",
      "['18', '황재균', 'KT', '0.295', '109', '457', '407', '62', '120', '26', '2', '6', '168', '49', '3', '1']\n",
      "['19', '문성주', 'LG', '0.294', '136', '534', '449', '77', '132', '21', '4', '2', '167', '57', '6', '4']\n",
      "['20', '김현수', 'LG', '0.293', '133', '556', '488', '53', '143', '22', '2', '6', '187', '88', '1', '8']\n",
      "['21', '안치홍', '롯데', '0.292', '121', '494', '425', '57', '124', '20', '1', '8', '170', '63', '5', '5']\n",
      "['22', '강민호', '삼성', '0.290', '125', '495', '434', '60', '126', '19', '0', '16', '193', '77', '1', '5']\n",
      "['23', '알포드', 'KT', '0.289', '133', '547', '491', '83', '142', '31', '3', '15', '224', '70', '0', '3']\n",
      "['24', '장성우', 'KT', '0.288', '131', '464', '410', '37', '118', '22', '0', '11', '173', '65', '3', '7']\n",
      "['25', '정수빈', '두산', '0.287', '137', '583', '498', '75', '143', '14', '11', '2', '185', '33', '12', '2']\n",
      "['26', '피렐라', '삼성', '0.285', '139', '605', '557', '66', '159', '28', '1', '16', '237', '80', '0', '2']\n",
      "['27', '소크라테스', 'KIA', '0.285', '142', '608', '547', '91', '156', '31', '3', '20', '253', '96', '0', '8']\n",
      "['28', '박해민', 'LG', '0.285', '144', '558', '485', '80', '138', '14', '2', '6', '174', '59', '24', '1']\n",
      "['29', '박병호', 'KT', '0.283', '132', '493', '431', '53', '122', '15', '0', '18', '191', '87', '0', '8']\n",
      "['30', '마틴', 'NC', '0.283', '118', '503', '435', '55', '123', '20', '2', '17', '198', '90', '0', '10']\n"
     ]
    }
   ],
   "source": [
    "#BeautifulSoup를 사용해 웹 페이지에서 추출한 데이터를 처리하고 출력\n",
    "\n",
    "print(column_names) \n",
    "\n",
    "\n",
    "for idx, element in enumerate(player[1:]): #player 리스트에서 각 행을 반복적으로 처리. \n",
    "                        #enumerate 함수를 사용해 각 행의 인덱스와 해당 행의 내용을 반복\n",
    "    #각 행에서 <td> 요소 찾아 해당 셀의 내용을 추출, 각 셀의 내용 player_data 리스트에 저장\n",
    "    player_data = [td.text.strip() for td in element.find_all(\"td\")] \n",
    "    player_data_list.append(player_data) #player_data 리스트 player_data_list 리스트에 추가\n",
    "    \n",
    "    print(player_data)"
   ]
  },
  {
   "cell_type": "code",
   "execution_count": 101,
   "metadata": {},
   "outputs": [],
   "source": [
    "\n",
    "df = pd.DataFrame(player_data_list, columns=column_names) #player_data_list에 저장된 데이터를 DataFrame으로 변환\n",
    "\n",
    "df.to_excel(\"hitter_data.xlsx\", index=False) #hitter_data.xlsx 엑셀파일로 저장\n",
    "\n",
    "driver.quit() #webdriver 종료"
   ]
  },
  {
   "cell_type": "code",
   "execution_count": 102,
   "metadata": {},
   "outputs": [],
   "source": [
    "import bs4"
   ]
  },
  {
   "cell_type": "code",
   "execution_count": 103,
   "metadata": {},
   "outputs": [
    {
     "name": "stdout",
     "output_type": "stream",
     "text": [
      "Requirement already satisfied: selenium in c:\\users\\82105\\appdata\\local\\programs\\python\\python311\\lib\\site-packages (4.13.0)\n",
      "Requirement already satisfied: urllib3<3,>=1.26 in c:\\users\\82105\\appdata\\local\\programs\\python\\python311\\lib\\site-packages (from urllib3[socks]<3,>=1.26->selenium) (2.0.5)\n",
      "Requirement already satisfied: trio~=0.17 in c:\\users\\82105\\appdata\\local\\programs\\python\\python311\\lib\\site-packages (from selenium) (0.22.2)\n",
      "Requirement already satisfied: trio-websocket~=0.9 in c:\\users\\82105\\appdata\\local\\programs\\python\\python311\\lib\\site-packages (from selenium) (0.11.1)\n",
      "Requirement already satisfied: certifi>=2021.10.8 in c:\\users\\82105\\appdata\\local\\programs\\python\\python311\\lib\\site-packages (from selenium) (2023.7.22)\n",
      "Requirement already satisfied: attrs>=20.1.0 in c:\\users\\82105\\appdata\\local\\programs\\python\\python311\\lib\\site-packages (from trio~=0.17->selenium) (23.1.0)\n",
      "Requirement already satisfied: sortedcontainers in c:\\users\\82105\\appdata\\local\\programs\\python\\python311\\lib\\site-packages (from trio~=0.17->selenium) (2.4.0)\n",
      "Requirement already satisfied: idna in c:\\users\\82105\\appdata\\local\\programs\\python\\python311\\lib\\site-packages (from trio~=0.17->selenium) (3.4)\n",
      "Requirement already satisfied: outcome in c:\\users\\82105\\appdata\\local\\programs\\python\\python311\\lib\\site-packages (from trio~=0.17->selenium) (1.2.0)\n",
      "Requirement already satisfied: sniffio in c:\\users\\82105\\appdata\\local\\programs\\python\\python311\\lib\\site-packages (from trio~=0.17->selenium) (1.3.0)\n",
      "Requirement already satisfied: cffi>=1.14 in c:\\users\\82105\\appdata\\local\\programs\\python\\python311\\lib\\site-packages (from trio~=0.17->selenium) (1.16.0)\n",
      "Requirement already satisfied: wsproto>=0.14 in c:\\users\\82105\\appdata\\local\\programs\\python\\python311\\lib\\site-packages (from trio-websocket~=0.9->selenium) (1.2.0)\n",
      "Requirement already satisfied: pysocks!=1.5.7,<2.0,>=1.5.6 in c:\\users\\82105\\appdata\\local\\programs\\python\\python311\\lib\\site-packages (from urllib3[socks]<3,>=1.26->selenium) (1.7.1)\n",
      "Requirement already satisfied: pycparser in c:\\users\\82105\\appdata\\local\\programs\\python\\python311\\lib\\site-packages (from cffi>=1.14->trio~=0.17->selenium) (2.21)\n",
      "Requirement already satisfied: h11<1,>=0.9.0 in c:\\users\\82105\\appdata\\local\\programs\\python\\python311\\lib\\site-packages (from wsproto>=0.14->trio-websocket~=0.9->selenium) (0.14.0)\n",
      "Note: you may need to restart the kernel to use updated packages.\n"
     ]
    }
   ],
   "source": [
    "pip install selenium"
   ]
  },
  {
   "cell_type": "code",
   "execution_count": 104,
   "metadata": {},
   "outputs": [
    {
     "name": "stdout",
     "output_type": "stream",
     "text": [
      "Requirement already satisfied: openpyxl in c:\\users\\82105\\appdata\\local\\programs\\python\\python311\\lib\\site-packages (3.1.2)\n",
      "Requirement already satisfied: et-xmlfile in c:\\users\\82105\\appdata\\local\\programs\\python\\python311\\lib\\site-packages (from openpyxl) (1.1.0)\n",
      "Note: you may need to restart the kernel to use updated packages.\n"
     ]
    }
   ],
   "source": [
    "pip install openpyxl"
   ]
  },
  {
   "cell_type": "code",
   "execution_count": null,
   "metadata": {},
   "outputs": [],
   "source": []
  }
 ],
 "metadata": {
  "kernelspec": {
   "display_name": "Python 3",
   "language": "python",
   "name": "python3"
  },
  "language_info": {
   "codemirror_mode": {
    "name": "ipython",
    "version": 3
   },
   "file_extension": ".py",
   "mimetype": "text/x-python",
   "name": "python",
   "nbconvert_exporter": "python",
   "pygments_lexer": "ipython3",
   "version": "3.11.5"
  },
  "orig_nbformat": 4
 },
 "nbformat": 4,
 "nbformat_minor": 2
}
