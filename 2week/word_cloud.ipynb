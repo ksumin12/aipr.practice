{
 "cells": [
  {
   "cell_type": "code",
   "execution_count": 1,
   "metadata": {},
   "outputs": [
    {
     "name": "stdout",
     "output_type": "stream",
     "text": [
      "Collecting wordcloud\n",
      "  Downloading wordcloud-1.9.2-cp311-cp311-win_amd64.whl.metadata (3.4 kB)\n",
      "Requirement already satisfied: numpy>=1.6.1 in c:\\users\\82105\\appdata\\local\\programs\\python\\python311\\lib\\site-packages (from wordcloud) (1.26.0)\n",
      "Requirement already satisfied: pillow in c:\\users\\82105\\appdata\\local\\programs\\python\\python311\\lib\\site-packages (from wordcloud) (10.1.0)\n",
      "Requirement already satisfied: matplotlib in c:\\users\\82105\\appdata\\local\\programs\\python\\python311\\lib\\site-packages (from wordcloud) (3.8.0)\n",
      "Requirement already satisfied: contourpy>=1.0.1 in c:\\users\\82105\\appdata\\local\\programs\\python\\python311\\lib\\site-packages (from matplotlib->wordcloud) (1.1.1)\n",
      "Requirement already satisfied: cycler>=0.10 in c:\\users\\82105\\appdata\\local\\programs\\python\\python311\\lib\\site-packages (from matplotlib->wordcloud) (0.12.1)\n",
      "Requirement already satisfied: fonttools>=4.22.0 in c:\\users\\82105\\appdata\\local\\programs\\python\\python311\\lib\\site-packages (from matplotlib->wordcloud) (4.43.1)\n",
      "Requirement already satisfied: kiwisolver>=1.0.1 in c:\\users\\82105\\appdata\\local\\programs\\python\\python311\\lib\\site-packages (from matplotlib->wordcloud) (1.4.5)\n",
      "Requirement already satisfied: packaging>=20.0 in c:\\users\\82105\\appdata\\roaming\\python\\python311\\site-packages (from matplotlib->wordcloud) (23.1)\n",
      "Requirement already satisfied: pyparsing>=2.3.1 in c:\\users\\82105\\appdata\\local\\programs\\python\\python311\\lib\\site-packages (from matplotlib->wordcloud) (3.1.1)\n",
      "Requirement already satisfied: python-dateutil>=2.7 in c:\\users\\82105\\appdata\\roaming\\python\\python311\\site-packages (from matplotlib->wordcloud) (2.8.2)\n",
      "Requirement already satisfied: six>=1.5 in c:\\users\\82105\\appdata\\roaming\\python\\python311\\site-packages (from python-dateutil>=2.7->matplotlib->wordcloud) (1.16.0)\n",
      "Downloading wordcloud-1.9.2-cp311-cp311-win_amd64.whl (151 kB)\n",
      "   ---------------------------------------- 0.0/151.4 kB ? eta -:--:--\n",
      "   ---------------------------------------- 0.0/151.4 kB ? eta -:--:--\n",
      "   ------- ------------------------------- 30.7/151.4 kB 660.6 kB/s eta 0:00:01\n",
      "   ------------------------------------- -- 143.4/151.4 kB 1.7 MB/s eta 0:00:01\n",
      "   ---------------------------------------- 151.4/151.4 kB 1.3 MB/s eta 0:00:00\n",
      "Installing collected packages: wordcloud\n",
      "Successfully installed wordcloud-1.9.2\n",
      "Note: you may need to restart the kernel to use updated packages.\n"
     ]
    }
   ],
   "source": [
    "pip install wordcloud"
   ]
  },
  {
   "cell_type": "code",
   "execution_count": 2,
   "metadata": {},
   "outputs": [
    {
     "name": "stdout",
     "output_type": "stream",
     "text": [
      "Collecting konlpy\n",
      "  Downloading konlpy-0.6.0-py2.py3-none-any.whl (19.4 MB)\n",
      "     ---------------------------------------- 0.0/19.4 MB ? eta -:--:--\n",
      "     ---------------------------------------- 0.0/19.4 MB ? eta -:--:--\n",
      "     --------------------------------------- 0.0/19.4 MB 445.2 kB/s eta 0:00:44\n",
      "     ---------------------------------------- 0.1/19.4 MB 1.2 MB/s eta 0:00:16\n",
      "      --------------------------------------- 0.4/19.4 MB 2.6 MB/s eta 0:00:08\n",
      "     - -------------------------------------- 0.6/19.4 MB 3.5 MB/s eta 0:00:06\n",
      "     -- ------------------------------------- 1.1/19.4 MB 5.2 MB/s eta 0:00:04\n",
      "     --- ------------------------------------ 1.5/19.4 MB 5.9 MB/s eta 0:00:04\n",
      "     ---- ----------------------------------- 1.9/19.4 MB 6.5 MB/s eta 0:00:03\n",
      "     ---- ----------------------------------- 2.3/19.4 MB 7.0 MB/s eta 0:00:03\n",
      "     ---- ----------------------------------- 2.4/19.4 MB 6.3 MB/s eta 0:00:03\n",
      "     ----- ---------------------------------- 2.8/19.4 MB 6.5 MB/s eta 0:00:03\n",
      "     ------ --------------------------------- 3.1/19.4 MB 6.6 MB/s eta 0:00:03\n",
      "     ------- -------------------------------- 3.5/19.4 MB 7.0 MB/s eta 0:00:03\n",
      "     -------- ------------------------------- 4.0/19.4 MB 7.2 MB/s eta 0:00:03\n",
      "     -------- ------------------------------- 4.3/19.4 MB 7.5 MB/s eta 0:00:03\n",
      "     --------- ------------------------------ 4.7/19.4 MB 7.5 MB/s eta 0:00:02\n",
      "     ---------- ----------------------------- 5.0/19.4 MB 7.5 MB/s eta 0:00:02\n",
      "     ----------- ---------------------------- 5.5/19.4 MB 7.9 MB/s eta 0:00:02\n",
      "     ------------ --------------------------- 5.9/19.4 MB 7.9 MB/s eta 0:00:02\n",
      "     ------------- -------------------------- 6.4/19.4 MB 8.0 MB/s eta 0:00:02\n",
      "     ------------- -------------------------- 6.8/19.4 MB 8.2 MB/s eta 0:00:02\n",
      "     -------------- ------------------------- 7.1/19.4 MB 8.1 MB/s eta 0:00:02\n",
      "     --------------- ------------------------ 7.6/19.4 MB 8.2 MB/s eta 0:00:02\n",
      "     ---------------- ----------------------- 8.0/19.4 MB 8.2 MB/s eta 0:00:02\n",
      "     ----------------- ---------------------- 8.3/19.4 MB 8.3 MB/s eta 0:00:02\n",
      "     ----------------- ---------------------- 8.7/19.4 MB 8.3 MB/s eta 0:00:02\n",
      "     ------------------ --------------------- 9.0/19.4 MB 8.3 MB/s eta 0:00:02\n",
      "     ------------------- -------------------- 9.4/19.4 MB 8.4 MB/s eta 0:00:02\n",
      "     -------------------- ------------------- 9.8/19.4 MB 8.2 MB/s eta 0:00:02\n",
      "     -------------------- ------------------- 10.0/19.4 MB 8.2 MB/s eta 0:00:02\n",
      "     --------------------- ------------------ 10.5/19.4 MB 8.8 MB/s eta 0:00:02\n",
      "     ---------------------- ----------------- 10.8/19.4 MB 8.8 MB/s eta 0:00:01\n",
      "     ----------------------- ---------------- 11.3/19.4 MB 8.8 MB/s eta 0:00:01\n",
      "     ------------------------ --------------- 11.7/19.4 MB 8.8 MB/s eta 0:00:01\n",
      "     ------------------------ --------------- 12.1/19.4 MB 8.8 MB/s eta 0:00:01\n",
      "     ------------------------- -------------- 12.4/19.4 MB 8.7 MB/s eta 0:00:01\n",
      "     -------------------------- ------------- 12.9/19.4 MB 9.2 MB/s eta 0:00:01\n",
      "     --------------------------- ------------ 13.2/19.4 MB 9.1 MB/s eta 0:00:01\n",
      "     --------------------------- ------------ 13.5/19.4 MB 9.0 MB/s eta 0:00:01\n",
      "     ---------------------------- ----------- 14.0/19.4 MB 9.2 MB/s eta 0:00:01\n",
      "     ----------------------------- ---------- 14.4/19.4 MB 9.1 MB/s eta 0:00:01\n",
      "     ------------------------------ --------- 14.7/19.4 MB 9.1 MB/s eta 0:00:01\n",
      "     ------------------------------- -------- 15.1/19.4 MB 9.4 MB/s eta 0:00:01\n",
      "     -------------------------------- ------- 15.6/19.4 MB 9.1 MB/s eta 0:00:01\n",
      "     -------------------------------- ------- 16.0/19.4 MB 9.2 MB/s eta 0:00:01\n",
      "     --------------------------------- ------ 16.3/19.4 MB 9.0 MB/s eta 0:00:01\n",
      "     ---------------------------------- ----- 16.8/19.4 MB 9.1 MB/s eta 0:00:01\n",
      "     ----------------------------------- ---- 17.2/19.4 MB 9.0 MB/s eta 0:00:01\n",
      "     ------------------------------------ --- 17.7/19.4 MB 9.1 MB/s eta 0:00:01\n",
      "     ------------------------------------- -- 18.1/19.4 MB 9.1 MB/s eta 0:00:01\n",
      "     -------------------------------------- - 18.6/19.4 MB 9.1 MB/s eta 0:00:01\n",
      "     ---------------------------------------  19.0/19.4 MB 9.2 MB/s eta 0:00:01\n",
      "     ---------------------------------------  19.3/19.4 MB 9.4 MB/s eta 0:00:01\n",
      "     ---------------------------------------  19.4/19.4 MB 9.2 MB/s eta 0:00:01\n",
      "     ---------------------------------------  19.4/19.4 MB 9.2 MB/s eta 0:00:01\n",
      "     ---------------------------------------- 19.4/19.4 MB 8.6 MB/s eta 0:00:00\n",
      "Collecting JPype1>=0.7.0 (from konlpy)\n",
      "  Downloading JPype1-1.4.1-cp311-cp311-win_amd64.whl (345 kB)\n",
      "     ---------------------------------------- 0.0/345.1 kB ? eta -:--:--\n",
      "     ------------------------------------  337.9/345.1 kB 10.6 MB/s eta 0:00:01\n",
      "     -------------------------------------- 345.1/345.1 kB 7.1 MB/s eta 0:00:00\n",
      "Collecting lxml>=4.1.0 (from konlpy)\n",
      "  Downloading lxml-4.9.3-cp311-cp311-win_amd64.whl.metadata (3.9 kB)\n",
      "Requirement already satisfied: numpy>=1.6 in c:\\users\\82105\\appdata\\local\\programs\\python\\python311\\lib\\site-packages (from konlpy) (1.26.0)\n",
      "Requirement already satisfied: packaging in c:\\users\\82105\\appdata\\roaming\\python\\python311\\site-packages (from JPype1>=0.7.0->konlpy) (23.1)\n",
      "Downloading lxml-4.9.3-cp311-cp311-win_amd64.whl (3.8 MB)\n",
      "   ---------------------------------------- 0.0/3.8 MB ? eta -:--:--\n",
      "   ---- ----------------------------------- 0.5/3.8 MB 14.2 MB/s eta 0:00:01\n",
      "   --------- ------------------------------ 0.9/3.8 MB 13.7 MB/s eta 0:00:01\n",
      "   ------------- -------------------------- 1.3/3.8 MB 11.5 MB/s eta 0:00:01\n",
      "   ----------------- ---------------------- 1.6/3.8 MB 10.4 MB/s eta 0:00:01\n",
      "   --------------------- ------------------ 2.0/3.8 MB 9.8 MB/s eta 0:00:01\n",
      "   -------------------------- ------------- 2.5/3.8 MB 10.7 MB/s eta 0:00:01\n",
      "   -------------------------------- ------- 3.0/3.8 MB 10.2 MB/s eta 0:00:01\n",
      "   ------------------------------------ --- 3.4/3.8 MB 10.4 MB/s eta 0:00:01\n",
      "   ---------------------------------------  3.8/3.8 MB 10.0 MB/s eta 0:00:01\n",
      "   ---------------------------------------- 3.8/3.8 MB 9.3 MB/s eta 0:00:00\n",
      "Installing collected packages: lxml, JPype1, konlpy\n",
      "Successfully installed JPype1-1.4.1 konlpy-0.6.0 lxml-4.9.3\n",
      "Note: you may need to restart the kernel to use updated packages.\n"
     ]
    }
   ],
   "source": [
    "pip install konlpy"
   ]
  },
  {
   "cell_type": "code",
   "execution_count": 3,
   "metadata": {},
   "outputs": [
    {
     "data": {
      "text/plain": [
       "\"with open('news.txt', 'r', encoding='utf-8') as f: \\n    #news.txt 파일을 읽기모드로 열어서 텍스트 데이터를 읽어와 text 변수에 저장\\n    text = f.read()\\n\\nokt = Okt()\\nnouns = okt.nouns(text) \\n#text 변수에 저장된 텍스트를 형태소 분석하여 명사만 추출, nouns변수에 저장\\n\\nwords = [n for n in nouns if len(n) > 0] \\nc = Counter(words) \\n#words 리스트 내 단어 빈도 계산하여 각 단어가 몇번 나왔는지 세어주는 Counter 객체 생성\\n\\nwc = WordCloud(font_path='malgun', width=400, height=400, scale=2.0, max_font_size=250) \\n#word cloud 객체를 생성하고 malgun 폰트를 사용해 크기 스케일 최대폰트 크기 설정\\ngen = wc.generate_from_frequencies(c) \\n#Counter의 객체인 c를 기반으로 워드클라우드 생성\\nplt.figure()\\nplt.imshow(gen)\\n\\nwc.to_file('news_word_cloud.png') #생성된 워드 클라우드 그림 파일로 저장\\n\\n#워드 클라우드 속 '렘수'를 없애고 싶었는데 방법을 못찾음\""
      ]
     },
     "execution_count": 3,
     "metadata": {},
     "output_type": "execute_result"
    }
   ],
   "source": [
    "from wordcloud import WordCloud\n",
    "import matplotlib.pyplot as plt\n",
    "from collections import Counter\n",
    "from konlpy.tag import Okt\n",
    "from PIL import Image\n",
    "import numpy as np\n",
    "\n",
    "\"\"\"with open('news.txt', 'r', encoding='utf-8') as f: \n",
    "    #news.txt 파일을 읽기모드로 열어서 텍스트 데이터를 읽어와 text 변수에 저장\n",
    "    text = f.read()\n",
    "\n",
    "okt = Okt()\n",
    "nouns = okt.nouns(text) \n",
    "#text 변수에 저장된 텍스트를 형태소 분석하여 명사만 추출, nouns변수에 저장\n",
    "\n",
    "words = [n for n in nouns if len(n) > 0] \n",
    "c = Counter(words) \n",
    "#words 리스트 내 단어 빈도 계산하여 각 단어가 몇번 나왔는지 세어주는 Counter 객체 생성\n",
    "\n",
    "wc = WordCloud(font_path='malgun', width=400, height=400, scale=2.0, max_font_size=250) \n",
    "#word cloud 객체를 생성하고 malgun 폰트를 사용해 크기 스케일 최대폰트 크기 설정\n",
    "gen = wc.generate_from_frequencies(c) \n",
    "#Counter의 객체인 c를 기반으로 워드클라우드 생성\n",
    "plt.figure()\n",
    "plt.imshow(gen)\n",
    "\n",
    "wc.to_file('news_word_cloud.png') #생성된 워드 클라우드 그림 파일로 저장\n",
    "\n",
    "#워드 클라우드 속 '렘수'를 없애고 싶었는데 방법을 못찾음\"\"\"\n"
   ]
  },
  {
   "cell_type": "code",
   "execution_count": 5,
   "metadata": {},
   "outputs": [],
   "source": [
    "with open('news.txt', 'r', encoding='utf-8') as f: \n",
    "    #news.txt 파일을 읽기모드로 열어서 텍스트 데이터를 읽어와 text 변수에 저장\n",
    "    text = f.read()"
   ]
  },
  {
   "cell_type": "code",
   "execution_count": 6,
   "metadata": {},
   "outputs": [
    {
     "ename": "JVMNotFoundException",
     "evalue": "No JVM shared library file (jvm.dll) found. Try setting up the JAVA_HOME environment variable properly.",
     "output_type": "error",
     "traceback": [
      "\u001b[1;31m---------------------------------------------------------------------------\u001b[0m",
      "\u001b[1;31mJVMNotFoundException\u001b[0m                      Traceback (most recent call last)",
      "\u001b[1;32mc:\\OpenSourceSW_Basic\\aipr.practice\\2week\\word_cloud.ipynb Cell 5\u001b[0m line \u001b[0;36m1\n\u001b[1;32m----> <a href='vscode-notebook-cell:/c%3A/OpenSourceSW_Basic/aipr.practice/2week/word_cloud.ipynb#W3sZmlsZQ%3D%3D?line=0'>1</a>\u001b[0m okt \u001b[39m=\u001b[39m Okt()\n\u001b[0;32m      <a href='vscode-notebook-cell:/c%3A/OpenSourceSW_Basic/aipr.practice/2week/word_cloud.ipynb#W3sZmlsZQ%3D%3D?line=1'>2</a>\u001b[0m nouns \u001b[39m=\u001b[39m okt\u001b[39m.\u001b[39mnouns(text) \n\u001b[0;32m      <a href='vscode-notebook-cell:/c%3A/OpenSourceSW_Basic/aipr.practice/2week/word_cloud.ipynb#W3sZmlsZQ%3D%3D?line=2'>3</a>\u001b[0m \u001b[39m#text 변수에 저장된 텍스트를 형태소 분석하여 명사만 추출, nouns변수에 저장\u001b[39;00m\n",
      "File \u001b[1;32mc:\\Users\\82105\\AppData\\Local\\Programs\\Python\\Python311\\Lib\\site-packages\\konlpy\\tag\\_okt.py:51\u001b[0m, in \u001b[0;36mOkt.__init__\u001b[1;34m(self, jvmpath, max_heap_size)\u001b[0m\n\u001b[0;32m     49\u001b[0m \u001b[39mdef\u001b[39;00m \u001b[39m__init__\u001b[39m(\u001b[39mself\u001b[39m, jvmpath\u001b[39m=\u001b[39m\u001b[39mNone\u001b[39;00m, max_heap_size\u001b[39m=\u001b[39m\u001b[39m1024\u001b[39m):\n\u001b[0;32m     50\u001b[0m     \u001b[39mif\u001b[39;00m \u001b[39mnot\u001b[39;00m jpype\u001b[39m.\u001b[39misJVMStarted():\n\u001b[1;32m---> 51\u001b[0m         jvm\u001b[39m.\u001b[39;49minit_jvm(jvmpath, max_heap_size)\n\u001b[0;32m     53\u001b[0m     oktJavaPackage \u001b[39m=\u001b[39m jpype\u001b[39m.\u001b[39mJPackage(\u001b[39m'\u001b[39m\u001b[39mkr.lucypark.okt\u001b[39m\u001b[39m'\u001b[39m)\n\u001b[0;32m     54\u001b[0m     OktInterfaceJavaClass \u001b[39m=\u001b[39m oktJavaPackage\u001b[39m.\u001b[39mOktInterface\n",
      "File \u001b[1;32mc:\\Users\\82105\\AppData\\Local\\Programs\\Python\\Python311\\Lib\\site-packages\\konlpy\\jvm.py:55\u001b[0m, in \u001b[0;36minit_jvm\u001b[1;34m(jvmpath, max_heap_size)\u001b[0m\n\u001b[0;32m     52\u001b[0m args \u001b[39m=\u001b[39m [javadir, os\u001b[39m.\u001b[39msep]\n\u001b[0;32m     53\u001b[0m classpath \u001b[39m=\u001b[39m [f\u001b[39m.\u001b[39mformat(\u001b[39m*\u001b[39margs) \u001b[39mfor\u001b[39;00m f \u001b[39min\u001b[39;00m folder_suffix]\n\u001b[1;32m---> 55\u001b[0m jvmpath \u001b[39m=\u001b[39m jvmpath \u001b[39mor\u001b[39;00m jpype\u001b[39m.\u001b[39;49mgetDefaultJVMPath()\n\u001b[0;32m     57\u001b[0m \u001b[39m# NOTE: Temporary patch for Issue #76. Erase when possible.\u001b[39;00m\n\u001b[0;32m     58\u001b[0m \u001b[39mif\u001b[39;00m sys\u001b[39m.\u001b[39mplatform \u001b[39m==\u001b[39m \u001b[39m'\u001b[39m\u001b[39mdarwin\u001b[39m\u001b[39m'\u001b[39m\\\n\u001b[0;32m     59\u001b[0m         \u001b[39mand\u001b[39;00m jvmpath\u001b[39m.\u001b[39mfind(\u001b[39m'\u001b[39m\u001b[39m1.8.0\u001b[39m\u001b[39m'\u001b[39m) \u001b[39m>\u001b[39m \u001b[39m0\u001b[39m\\\n\u001b[0;32m     60\u001b[0m         \u001b[39mand\u001b[39;00m jvmpath\u001b[39m.\u001b[39mendswith(\u001b[39m'\u001b[39m\u001b[39mlibjvm.dylib\u001b[39m\u001b[39m'\u001b[39m):\n",
      "File \u001b[1;32mc:\\Users\\82105\\AppData\\Local\\Programs\\Python\\Python311\\Lib\\site-packages\\jpype\\_jvmfinder.py:74\u001b[0m, in \u001b[0;36mgetDefaultJVMPath\u001b[1;34m()\u001b[0m\n\u001b[0;32m     72\u001b[0m \u001b[39melse\u001b[39;00m:\n\u001b[0;32m     73\u001b[0m     finder \u001b[39m=\u001b[39m LinuxJVMFinder()\n\u001b[1;32m---> 74\u001b[0m \u001b[39mreturn\u001b[39;00m finder\u001b[39m.\u001b[39;49mget_jvm_path()\n",
      "File \u001b[1;32mc:\\Users\\82105\\AppData\\Local\\Programs\\Python\\Python311\\Lib\\site-packages\\jpype\\_jvmfinder.py:212\u001b[0m, in \u001b[0;36mJVMFinder.get_jvm_path\u001b[1;34m(self)\u001b[0m\n\u001b[0;32m    210\u001b[0m \u001b[39mif\u001b[39;00m jvm_notsupport_ext \u001b[39mis\u001b[39;00m \u001b[39mnot\u001b[39;00m \u001b[39mNone\u001b[39;00m:\n\u001b[0;32m    211\u001b[0m     \u001b[39mraise\u001b[39;00m jvm_notsupport_ext\n\u001b[1;32m--> 212\u001b[0m \u001b[39mraise\u001b[39;00m JVMNotFoundException(\u001b[39m\"\u001b[39m\u001b[39mNo JVM shared library file (\u001b[39m\u001b[39m{0}\u001b[39;00m\u001b[39m) \u001b[39m\u001b[39m\"\u001b[39m\n\u001b[0;32m    213\u001b[0m                            \u001b[39m\"\u001b[39m\u001b[39mfound. Try setting up the JAVA_HOME \u001b[39m\u001b[39m\"\u001b[39m\n\u001b[0;32m    214\u001b[0m                            \u001b[39m\"\u001b[39m\u001b[39menvironment variable properly.\u001b[39m\u001b[39m\"\u001b[39m\n\u001b[0;32m    215\u001b[0m                            \u001b[39m.\u001b[39mformat(\u001b[39mself\u001b[39m\u001b[39m.\u001b[39m_libfile))\n",
      "\u001b[1;31mJVMNotFoundException\u001b[0m: No JVM shared library file (jvm.dll) found. Try setting up the JAVA_HOME environment variable properly."
     ]
    }
   ],
   "source": [
    "okt = Okt()\n",
    "nouns = okt.nouns(text) \n",
    "#text 변수에 저장된 텍스트를 형태소 분석하여 명사만 추출, nouns변수에 저장\n"
   ]
  },
  {
   "cell_type": "code",
   "execution_count": null,
   "metadata": {},
   "outputs": [],
   "source": [
    "words = [n for n in nouns if len(n) > 0] \n",
    "c = Counter(words) \n",
    "#words 리스트 내 단어 빈도 계산하여 각 단어가 몇번 나왔는지 세어주는 Counter 객체 생성\n"
   ]
  },
  {
   "cell_type": "code",
   "execution_count": null,
   "metadata": {},
   "outputs": [],
   "source": [
    "wc = WordCloud(font_path='malgun', width=400, height=400, scale=2.0, max_font_size=250) \n",
    "#word cloud 객체를 생성하고 malgun 폰트를 사용해 크기 스케일 최대폰트 크기 설정\n",
    "gen = wc.generate_from_frequencies(c) \n",
    "#Counter의 객체인 c를 기반으로 워드클라우드 생성\n",
    "plt.figure()\n",
    "plt.imshow(gen)"
   ]
  },
  {
   "cell_type": "code",
   "execution_count": null,
   "metadata": {},
   "outputs": [],
   "source": [
    "wc.to_file('news_word_cloud.png') #생성된 워드 클라우드 그림 파일로 저장"
   ]
  }
 ],
 "metadata": {
  "kernelspec": {
   "display_name": "Python 3",
   "language": "python",
   "name": "python3"
  },
  "language_info": {
   "codemirror_mode": {
    "name": "ipython",
    "version": 3
   },
   "file_extension": ".py",
   "mimetype": "text/x-python",
   "name": "python",
   "nbconvert_exporter": "python",
   "pygments_lexer": "ipython3",
   "version": "3.11.5"
  },
  "orig_nbformat": 4
 },
 "nbformat": 4,
 "nbformat_minor": 2
}
